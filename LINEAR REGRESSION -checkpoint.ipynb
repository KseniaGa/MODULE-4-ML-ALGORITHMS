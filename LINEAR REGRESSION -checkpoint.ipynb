{
 "cells": [
  {
   "cell_type": "code",
   "execution_count": 2,
   "metadata": {
    "collapsed": true
   },
   "outputs": [],
   "source": [
    "import numpy as np\n",
    "%matplotlib inline\n",
    "from mpl_toolkits import mplot3d\n",
    "import numpy as np\n",
    "import matplotlib.pyplot as plt"
   ]
  },
  {
   "cell_type": "code",
   "execution_count": null,
   "metadata": {},
   "outputs": [],
   "source": []
  },
  {
   "cell_type": "code",
   "execution_count": 3,
   "metadata": {
    "collapsed": true
   },
   "outputs": [],
   "source": [
    "def linear_regression():\n",
    "    \n",
    "    points = np.genfromtxt('test.csv', delimiter=',')\n",
    "\n",
    "    learning_rate = 0.0001\n",
    "\n",
    "    init_a = 0\n",
    "    init_b = 0\n",
    "\n",
    "    num_iterations = 10000\n",
    "    \n",
    "\n",
    "    print(\n",
    "        'Start learning at a = {0}, b = {1}, error = {2}'.format(\n",
    "            init_a,\n",
    "            init_b,\n",
    "            compute_error(init_a, init_b, points)\n",
    "        )\n",
    "    )\n",
    "    \n",
    "    a, b = gradient_descent(init_a, init_b, points, learning_rate, num_iterations)\n",
    "    \n",
    "    print(\n",
    "        'End learning at a = {0}, b = {1}, error = {2}'.format(\n",
    "            a,\n",
    "            b,\n",
    "            compute_error(a, b, points)\n",
    "        )\n",
    "    )\n",
    "\n",
    "    return a,b\n",
    "\n",
    "def compute_error(a, b, points):\n",
    "\n",
    "    error = 0\n",
    "    N = len(points)\n",
    "    for i in range(N) : \n",
    "            \n",
    "        x = points[i,0]\n",
    "        y = points[i,1]\n",
    "            \n",
    "        error += (y-(a*x+b))**2\n",
    "             \n",
    "    return error/N\n",
    "    \n",
    "\n",
    "def gradient_descent(starting_a, starting_b, points, learning_rate, num_iterations):\n",
    "    \n",
    "\n",
    "    \n",
    "    a= starting_a\n",
    "    b=starting_b \n",
    "    \n",
    "    for i in range(num_iterations) :\n",
    "        a,b = gradient_step(a,b,points, learning_rate)\n",
    "    \n",
    "    return a,b \n",
    "\n",
    "    \n",
    "def gradient_step(current_a, current_b, points, learning_rate):\n",
    "\n",
    "    \n",
    "    a= current_a \n",
    "    b = current_b \n",
    "    \n",
    "    grad_a = 0\n",
    "    grad_b = 0 \n",
    "    N = len(points) \n",
    "    for i in range(N) :\n",
    "        x = points[i,0]\n",
    "        y = points[i,1]\n",
    "        \n",
    "        \n",
    "        grad_a += -(2/N)*x*(y-(a*x+b))\n",
    "        grad_b += -(2/N)*(y-(a*x+b))\n",
    "    \n",
    "    \n",
    "    \n",
    "    a = current_a-learning_rate*grad_a \n",
    "    b = current_b - learning_rate*grad_b\n",
    "    \n",
    "    return a,b "
   ]
  },
  {
   "cell_type": "code",
   "execution_count": 4,
   "metadata": {},
   "outputs": [
    {
     "name": "stdout",
     "output_type": "stream",
     "text": [
      "Start learning at a = 0, b = 0, error = 3464.291087139079\n",
      "End learning at a = 1.0099005902110763, b = -0.1654358918745136, error = 9.185181851484131\n"
     ]
    }
   ],
   "source": [
    "a, b = linear_regression()"
   ]
  },
  {
   "cell_type": "code",
   "execution_count": 5,
   "metadata": {},
   "outputs": [
    {
     "data": {
      "image/png": "[encoded data removed]",
      "text/plain": [
       "<matplotlib.figure.Figure at 0x1d69d6d2160>"
      ]
     },
     "metadata": {},
     "output_type": "display_data"
    }
   ],
   "source": [
    "points = np.genfromtxt('test.csv', delimiter=',')\n",
    "\n",
    "X = points[:, 0]\n",
    "Y = points[:, 1]\n",
    "\n",
    "plt.xlim(0, 80)\n",
    "plt.ylim(0, 150)\n",
    "plt.scatter(X, Y)\n",
    "\n",
    "params = np.linspace(0, 150, 10)\n",
    "\n",
    "plt.plot(params, a * params + b)\n",
    "\n",
    "plt.show()"
   ]
  }
 ],
 "metadata": {
  "kernelspec": {
   "display_name": "Python 3",
   "language": "python",
   "name": "python3"
  },
  "language_info": {
   "codemirror_mode": {
    "name": "ipython",
    "version": 3
   },
   "file_extension": ".py",
   "mimetype": "text/x-python",
   "name": "python",
   "nbconvert_exporter": "python",
   "pygments_lexer": "ipython3",
   "version": "3.6.3"
  }
 },
 "nbformat": 4,
 "nbformat_minor": 2
}
