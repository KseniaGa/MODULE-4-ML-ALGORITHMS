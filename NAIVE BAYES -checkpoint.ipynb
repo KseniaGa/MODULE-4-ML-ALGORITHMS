{
 "cells": [
  {
   "cell_type": "code",
   "execution_count": 6,
   "metadata": {
    "collapsed": true
   },
   "outputs": [],
   "source": [
    "import csv\n",
    "import random\n",
    "import math\n",
    "import numpy as np"
   ]
  },
  {
   "cell_type": "code",
   "execution_count": 16,
   "metadata": {
    "collapsed": true
   },
   "outputs": [],
   "source": [
    "def loadCsv(filename):\n",
    "    return  np.genfromtxt(filename, delimiter=',')"
   ]
  },
  {
   "cell_type": "code",
   "execution_count": 18,
   "metadata": {
    "collapsed": true
   },
   "outputs": [],
   "source": [
    "def splitDataset(dataset, splitRatio):\n",
    "\n",
    "    trainSize = int(dataset.shape[0] * splitRatio)\n",
    "    indices = np.random.permutation(dataset.shape[0])\n",
    "    training_idx, test_idx = indices[:trainSize], indices[trainSize:]\n",
    "    training, test = dataset[training_idx,:], dataset[test_idx,:]\n",
    "    \n",
    "    return training, test\n",
    "\n",
    "\n",
    "def separateByClass(dataset):\n",
    "\n",
    "    return {\n",
    "        1: dataset[np.where(dataset[:, -1]==1), :],\n",
    "        0: dataset[np.where(dataset[:, -1]==0), :]\n",
    "    }\n",
    "\n",
    "\n",
    "def summarize(dataset):\n",
    "\n",
    "    means = dataset.mean(axis=1)[0][:-1]\n",
    "    stds = dataset.std(axis=1, ddof=1)[0][:-1]\n",
    "    \n",
    "    return means, stds\n",
    "\n",
    "\n",
    "def summarizeByClass(dataset):\n",
    "\n",
    "    separated = separateByClass(dataset)\n",
    "    summaries = {}\n",
    "    \n",
    "    for classValue, instances in separated.items():\n",
    "        summaries[classValue] = summarize(instances)\n",
    "    \n",
    "    return summaries\n",
    "\n",
    "\n",
    "def calculateProbability(x, mean, stdev):\n",
    "\n",
    "    return np.prod((np.exp(-(x-mean)**2/(2*stdev**2)))/(np.sqrt(2*np.pi)*stdev))\n",
    "\n",
    "\n",
    "def calculateClassProbabilities(summaries, inputVector):\n",
    "\n",
    "    probabilities = {}\n",
    "    \n",
    "    for classValue, classSummaries in summaries.items():\n",
    "        means = classSummaries[0]\n",
    "        stds = classSummaries[1]\n",
    "\n",
    "        probabilities[classValue] = calculateProbability(inputVector[:-1], means, stds)\n",
    "        \n",
    "    return probabilities\n",
    "\n",
    "def predict(summaries, inputVector):\n",
    "\n",
    "    probabilities = calculateClassProbabilities(summaries, inputVector)\n",
    "    bestLabel, bestProb = None, -1\n",
    "    \n",
    "\n",
    "    for classValue, probability in probabilities.items():\n",
    "        if bestLabel is None or probability > bestProb:\n",
    "            bestProb = probability\n",
    "            bestLabel = classValue\n",
    "    \n",
    "    return bestLabel\n",
    "\n",
    "\n",
    "def getPredictions(summaries, testSet):\n",
    "    predictions = []\n",
    "    \n",
    " \n",
    "    for i in range(len(testSet)):\n",
    "        result = predict(summaries, testSet[i])\n",
    "        predictions.append(result)\n",
    "\n",
    "    return predictions\n",
    "\n",
    "def getAccuracy(testSet, predictions):\n",
    "\n",
    "    correct = 0\n",
    "    \n",
    "    for i in range(len(testSet)):\n",
    "        if testSet[i][-1] == predictions[i]:\n",
    "            correct += 1\n",
    "    return (correct/float(len(testSet))) * 100.0\n",
    "\n"
   ]
  },
  {
   "cell_type": "code",
   "execution_count": 31,
   "metadata": {
    "collapsed": true
   },
   "outputs": [],
   "source": [
    "def main():\n",
    "\n",
    "    filename = 'data.csv'\n",
    "    splitRatio = 0.67\n",
    "\n",
    "    dataset = loadCsv(filename)\n",
    "    trainingSet, testSet = splitDataset(dataset, splitRatio)\n",
    "    \n",
    "    print('Split {0} rows into train={1} and test={2} rows'.format(len(dataset), len(trainingSet), len(testSet)))\n",
    "    \n",
    "\n",
    "    summaries = summarizeByClass(trainingSet)\n",
    "    \n",
    "\n",
    "    predictions = getPredictions(summaries, testSet)\n",
    "    \n",
    "    accuracy = getAccuracy(testSet, predictions)\n",
    "    \n",
    "    print('Accuracy: {0}%'.format(accuracy))"
   ]
  },
  {
   "cell_type": "code",
   "execution_count": 32,
   "metadata": {},
   "outputs": [
    {
     "name": "stdout",
     "output_type": "stream",
     "text": [
      "Split 768 rows into train=514 and test=254 rows\n",
      "Accuracy: 73.62204724409449%\n"
     ]
    }
   ],
   "source": [
    "main()"
   ]
  }
 ],
 "metadata": {
  "kernelspec": {
   "display_name": "Python 3",
   "language": "python",
   "name": "python3"
  },
  "language_info": {
   "codemirror_mode": {
    "name": "ipython",
    "version": 3
   },
   "file_extension": ".py",
   "mimetype": "text/x-python",
   "name": "python",
   "nbconvert_exporter": "python",
   "pygments_lexer": "ipython3",
   "version": "3.6.3"
  }
 },
 "nbformat": 4,
 "nbformat_minor": 2
}
